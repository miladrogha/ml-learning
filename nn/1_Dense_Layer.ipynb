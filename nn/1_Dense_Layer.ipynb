{
 "cells": [
  {
   "cell_type": "code",
   "execution_count": 1,
   "metadata": {},
   "outputs": [],
   "source": [
    "import numpy as np\n",
    "import nnfs\n",
    "from nnfs.datasets import spiral_data\n",
    "nnfs.init()"
   ]
  },
  {
   "cell_type": "code",
   "execution_count": 2,
   "metadata": {},
   "outputs": [],
   "source": [
    "# Dense Layer\n",
    "class Layer_Dense:\n",
    "\n",
    "    def __init__(self, n_inputs, n_neurons):\n",
    "        # Initialize weights and biases\n",
    "        self.weights = 0.01 * np.random.randn(n_inputs, n_neurons) #initialize random weights as small values\n",
    "        self.biases = np.zeros((1, n_neurons))  # initialize random biases as zeroes\n",
    "        \n",
    "\n",
    "    def forward(self, inputs):\n",
    "        # Calculates the output from inputs, weights, and biases\n",
    "        self.output = np.dot(inputs, self.weights) + self.biases\n",
    "        "
   ]
  },
  {
   "cell_type": "code",
   "execution_count": 3,
   "metadata": {},
   "outputs": [
    {
     "data": {
      "text/plain": [
       "array([[ 0.0000000e+00,  0.0000000e+00,  0.0000000e+00],\n",
       "       [-1.0475188e-04,  1.1395361e-04, -4.7983500e-05],\n",
       "       [-2.7414842e-04,  3.1729150e-04, -8.6921798e-05],\n",
       "       [-4.2188365e-04,  5.2666257e-04, -5.5912682e-05],\n",
       "       [-5.7707680e-04,  7.1401405e-04, -8.9430439e-05]], dtype=float32)"
      ]
     },
     "execution_count": 3,
     "metadata": {},
     "output_type": "execute_result"
    }
   ],
   "source": [
    "# Create Dataset\n",
    "\n",
    "# generate spiral data with 100 observations and 3 classes\n",
    "X, y = spiral_data(samples=100, classes=3)\n",
    "\n",
    "# Create Dense layer w/ 2 input values and 3 output values\n",
    "dense1 = Layer_Dense(2,3)\n",
    "\n",
    "# Perform a forward pass\n",
    "dense1.forward(X)\n",
    "\n",
    "# Print the dense layer output\n",
    "dense1.output[:5]\n"
   ]
  },
  {
   "cell_type": "code",
   "execution_count": null,
   "metadata": {},
   "outputs": [],
   "source": []
  }
 ],
 "metadata": {
  "kernelspec": {
   "display_name": "venv",
   "language": "python",
   "name": "python3"
  },
  "language_info": {
   "codemirror_mode": {
    "name": "ipython",
    "version": 3
   },
   "file_extension": ".py",
   "mimetype": "text/x-python",
   "name": "python",
   "nbconvert_exporter": "python",
   "pygments_lexer": "ipython3",
   "version": "3.12.2"
  }
 },
 "nbformat": 4,
 "nbformat_minor": 2
}
